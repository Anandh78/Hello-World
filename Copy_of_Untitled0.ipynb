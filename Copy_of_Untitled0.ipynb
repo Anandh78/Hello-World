{
  "nbformat": 4,
  "nbformat_minor": 0,
  "metadata": {
    "colab": {
      "name": "Copy of Untitled0.ipynb",
      "provenance": [],
      "collapsed_sections": [],
      "toc_visible": true,
      "include_colab_link": true
    },
    "kernelspec": {
      "name": "python3",
      "display_name": "Python 3"
    }
  },
  "cells": [
    {
      "cell_type": "markdown",
      "metadata": {
        "id": "view-in-github",
        "colab_type": "text"
      },
      "source": [
        "<a href=\"https://colab.research.google.com/github/Anandh78/Hello-World/blob/master/Copy_of_Untitled0.ipynb\" target=\"_parent\"><img src=\"https://colab.research.google.com/assets/colab-badge.svg\" alt=\"Open In Colab\"/></a>"
      ]
    },
    {
      "cell_type": "code",
      "metadata": {
        "id": "AkzCuF8vmoVx",
        "colab_type": "code",
        "colab": {}
      },
      "source": [
        "is_android=False\n",
        "name='Android'"
      ],
      "execution_count": 0,
      "outputs": []
    },
    {
      "cell_type": "code",
      "metadata": {
        "id": "FXVfYslznN4S",
        "colab_type": "code",
        "outputId": "db6e7ec1-66d6-4535-e6f6-dcd18dcb76b8",
        "colab": {
          "base_uri": "https://localhost:8080/",
          "height": 102
        }
      },
      "source": [
        "for i in range(5):\n",
        "  print(i,i**2)\n",
        "    "
      ],
      "execution_count": 0,
      "outputs": [
        {
          "output_type": "stream",
          "text": [
            "0 0\n",
            "1 1\n",
            "2 4\n",
            "3 9\n",
            "4 16\n"
          ],
          "name": "stdout"
        }
      ]
    },
    {
      "cell_type": "code",
      "metadata": {
        "id": "x3DPkVVLpL66",
        "colab_type": "code",
        "colab": {}
      },
      "source": [
        "def print_squares(stop_val):\n",
        "  for i in range(stop_val):\n",
        "    print(i,i**2)"
      ],
      "execution_count": 0,
      "outputs": []
    },
    {
      "cell_type": "code",
      "metadata": {
        "id": "Zyg5H1KYqDHB",
        "colab_type": "code",
        "colab": {}
      },
      "source": [
        "def sum_of_squares_with_startval(stop_val,start_val=0):\n",
        "  \n",
        "  \"\"\"prints squares of the numbers\"\"\"\n",
        "  \n",
        "  for i in range(stop_val,start_val):\n",
        "    \n",
        "    print(i,i**2)\n",
        "  \n",
        " "
      ],
      "execution_count": 0,
      "outputs": []
    },
    {
      "cell_type": "code",
      "metadata": {
        "id": "RKxWy8yWYfIS",
        "colab_type": "code",
        "colab": {}
      },
      "source": [
        "sum_of_squares_with_startval(5,1)"
      ],
      "execution_count": 0,
      "outputs": []
    },
    {
      "cell_type": "code",
      "metadata": {
        "id": "2KhYX6lyt9J1",
        "colab_type": "code",
        "outputId": "80994739-37b9-48e1-cd17-f56d939a7f69",
        "colab": {
          "base_uri": "https://localhost:8080/",
          "height": 102
        }
      },
      "source": [
        "  help(sum_of_squares_with_startval)"
      ],
      "execution_count": 0,
      "outputs": [
        {
          "output_type": "stream",
          "text": [
            "Help on function sum_of_squares_with_startval in module __main__:\n",
            "\n",
            "sum_of_squares_with_startval(stop_val, start_val=0)\n",
            "    prints squares of the numbers\n",
            "\n"
          ],
          "name": "stdout"
        }
      ]
    },
    {
      "cell_type": "code",
      "metadata": {
        "id": "adSiX4-t-fgX",
        "colab_type": "code",
        "outputId": "6be393a5-c084-4352-fad1-621ffb1d595e",
        "colab": {
          "base_uri": "https://localhost:8080/",
          "height": 34
        }
      },
      "source": [
        "list1=('apple','orange','demo')\n",
        "type(list1)"
      ],
      "execution_count": 0,
      "outputs": [
        {
          "output_type": "execute_result",
          "data": {
            "text/plain": [
              "tuple"
            ]
          },
          "metadata": {
            "tags": []
          },
          "execution_count": 2
        }
      ]
    },
    {
      "cell_type": "code",
      "metadata": {
        "id": "5PMo7tH0_Hi-",
        "colab_type": "code",
        "outputId": "5c39b2de-5224-4e01-9f97-d64b82317974",
        "colab": {
          "base_uri": "https://localhost:8080/",
          "height": 34
        }
      },
      "source": [
        "my_list=list(range(100000))\n",
        "tic=time.time()\n",
        "my_list_squared=map(lambda i: i**2 ,my_list )\n",
        "toc=time.time()\n",
        "print(\"Elapsed time\",toc-tic)"
      ],
      "execution_count": 0,
      "outputs": [
        {
          "output_type": "stream",
          "text": [
            "Elapsed time 7.271766662597656e-05\n"
          ],
          "name": "stdout"
        }
      ]
    },
    {
      "cell_type": "code",
      "metadata": {
        "id": "QApItaQoBBo_",
        "colab_type": "code",
        "outputId": "4c7ca516-7092-41e7-9bda-2a478bbbf51f",
        "colab": {
          "base_uri": "https://localhost:8080/",
          "height": 34
        }
      },
      "source": [
        "my_tuple=tuple(range(100000))\n",
        "tic=time.time()\n",
        "my_tuple_squared=map(lambda i: i**2 ,my_tuple)\n",
        "toc=time.time()\n",
        "print(\"Elapsed time\",toc-tic)"
      ],
      "execution_count": 0,
      "outputs": [
        {
          "output_type": "stream",
          "text": [
            "Elapsed time 0.0015864372253417969\n"
          ],
          "name": "stdout"
        }
      ]
    },
    {
      "cell_type": "code",
      "metadata": {
        "id": "uVzsdIg_B8mO",
        "colab_type": "code",
        "outputId": "754f6541-2739-4d98-d222-69f49e63c537",
        "colab": {
          "base_uri": "https://localhost:8080/",
          "height": 34
        }
      },
      "source": [
        "my_set={'a','b','c','b'}\n",
        "\n",
        "print(my_set)"
      ],
      "execution_count": 0,
      "outputs": [
        {
          "output_type": "stream",
          "text": [
            "{'b', 'c', 'a'}\n"
          ],
          "name": "stdout"
        }
      ]
    },
    {
      "cell_type": "code",
      "metadata": {
        "id": "Q1UBAlqzCRH4",
        "colab_type": "code",
        "outputId": "4496589e-9dfc-4bd7-e82d-a6e2e911ae46",
        "colab": {
          "base_uri": "https://localhost:8080/",
          "height": 85
        }
      },
      "source": [
        "my_list=list(range(1000000))\n",
        "tim=time.time()\n",
        "print(5555 in my_list)\n",
        "print(98876 in my_list)\n",
        "print(777777 in my_list)\n",
        "toc=time.time()\n",
        "print(\"Elapsed tine\",toc-tim)"
      ],
      "execution_count": 0,
      "outputs": [
        {
          "output_type": "stream",
          "text": [
            "True\n",
            "True\n",
            "True\n",
            "Elapsed tine 0.01183772087097168\n"
          ],
          "name": "stdout"
        }
      ]
    },
    {
      "cell_type": "code",
      "metadata": {
        "id": "7XaGYnWECqZ2",
        "colab_type": "code",
        "outputId": "39041afb-e1df-43a8-bef3-76fee812d7dc",
        "colab": {
          "base_uri": "https://localhost:8080/",
          "height": 85
        }
      },
      "source": [
        "my_set=set(range(1000000))\n",
        "tim=time.time()\n",
        "print(5555 in my_set)\n",
        "print(98876 in my_set)\n",
        "print(777777 in my_set)\n",
        "toc=time.time()\n",
        "print(\"Elapsed tine\",toc-tim)"
      ],
      "execution_count": 0,
      "outputs": [
        {
          "output_type": "stream",
          "text": [
            "True\n",
            "True\n",
            "True\n",
            "Elapsed tine 0.0011248588562011719\n"
          ],
          "name": "stdout"
        }
      ]
    },
    {
      "cell_type": "code",
      "metadata": {
        "id": "Lnud1bK2bdCF",
        "colab_type": "code",
        "outputId": "e3969a45-0dd5-4603-dc76-2b40d2debd33",
        "colab": {
          "base_uri": "https://localhost:8080/",
          "height": 351
        }
      },
      "source": [
        "plt.quiver(0,0,3,4,scale_units='xy',angles='xy',scale=1,color='red')\n",
        "plt.quiver(0,0,-3,4,scale_units='xy',angles='xy',scale=1,color='blue')\n",
        "plt.xlim(-10,10)\n",
        "plt.ylim(-10,10)\n",
        "plt.show()"
      ],
      "execution_count": 0,
      "outputs": [
        {
          "output_type": "display_data",
          "data": {
            "image/png": "[encoded data removed]",
            "text/plain": [
              "<Figure size 576x396 with 1 Axes>"
            ]
          },
          "metadata": {
            "tags": []
          }
        }
      ]
    },
    {
      "cell_type": "code",
      "metadata": {
        "id": "sEX3hoqvcEFX",
        "colab_type": "code",
        "colab": {}
      },
      "source": [
        "def plot_vectors(vecs):\n",
        "  colors=['r','b','g','y']\n",
        "  i=0\n",
        "  for v in vecs:\n",
        "    plt.quiver(v[0],v[1],v[2],v[3],scale_units='xy',angles='xy',scale=1,color=colors[i%len(colors)])\n",
        "    i+=1\n",
        "    plt.xlim(-10,10)\n",
        "    plt.ylim(-10,10)\n",
        "    plt.show()"
      ],
      "execution_count": 0,
      "outputs": []
    },
    {
      "cell_type": "code",
      "metadata": {
        "id": "rOiwIdn2mIuP",
        "colab_type": "code",
        "colab": {}
      },
      "source": [
        ""
      ],
      "execution_count": 0,
      "outputs": []
    },
    {
      "cell_type": "code",
      "metadata": {
        "id": "5u_rEiS6ozD8",
        "colab_type": "code",
        "outputId": "64760d37-91f4-49dc-8ec5-b5357e28de33",
        "colab": {
          "base_uri": "https://localhost:8080/",
          "height": 34
        }
      },
      "source": [
        "import numpy as np\n",
        "vecs=[np.asarray([0,0,3,4]),np.asarray([0,0,-3,4]),np.asarray([0,0,-3,-2]),np.asarray([0,0,4,-1])]\n",
        "vecs[0]+vecs[3]"
      ],
      "execution_count": 0,
      "outputs": [
        {
          "output_type": "execute_result",
          "data": {
            "text/plain": [
              "array([0, 0, 7, 3])"
            ]
          },
          "metadata": {
            "tags": []
          },
          "execution_count": 30
        }
      ]
    },
    {
      "cell_type": "code",
      "metadata": {
        "id": "PcXQA6OErohs",
        "colab_type": "code",
        "outputId": "bd35b363-1d69-4ef4-8149-f68794f90fb4",
        "colab": {
          "base_uri": "https://localhost:8080/",
          "height": 197
        }
      },
      "source": [
        "def square(x):\n",
        "    z = x ** 2\n",
        "    return z\n",
        "\n",
        "square(x = 2)\n",
        "print(x)"
      ],
      "execution_count": 0,
      "outputs": [
        {
          "output_type": "error",
          "ename": "NameError",
          "evalue": "ignored",
          "traceback": [
            "\u001b[0;31m---------------------------------------------------------------------------\u001b[0m",
            "\u001b[0;31mNameError\u001b[0m                                 Traceback (most recent call last)",
            "\u001b[0;32m<ipython-input-3-8ce54b2785f5>\u001b[0m in \u001b[0;36m<module>\u001b[0;34m()\u001b[0m\n\u001b[1;32m      4\u001b[0m \u001b[0;34m\u001b[0m\u001b[0m\n\u001b[1;32m      5\u001b[0m \u001b[0msquare\u001b[0m\u001b[0;34m(\u001b[0m\u001b[0mx\u001b[0m \u001b[0;34m=\u001b[0m \u001b[0;36m2\u001b[0m\u001b[0;34m)\u001b[0m\u001b[0;34m\u001b[0m\u001b[0;34m\u001b[0m\u001b[0m\n\u001b[0;32m----> 6\u001b[0;31m \u001b[0mprint\u001b[0m\u001b[0;34m(\u001b[0m\u001b[0mx\u001b[0m\u001b[0;34m)\u001b[0m\u001b[0;34m\u001b[0m\u001b[0;34m\u001b[0m\u001b[0m\n\u001b[0m",
            "\u001b[0;31mNameError\u001b[0m: name 'x' is not defined"
          ]
        }
      ]
    },
    {
      "cell_type": "code",
      "metadata": {
        "id": "zORRZ6IdQttA",
        "colab_type": "code",
        "colab": {}
      },
      "source": [
        "import sklearn.datasets\n",
        "import numpy as np\n",
        "breast_cancer=sklearn.datasets.load_breast_cancer()\n",
        "\n",
        "X=breast_cancer.data\n",
        "Y=breast_cancer.target\n",
        "\n",
        "\n",
        "import pandas as pd\n",
        "data=pd.DataFrame(breast_cancer.data,columns=breast_cancer.feature_names)\n",
        "data['class']=breast_cancer.target\n",
        "\n",
        "\n",
        "data=pd.DataFrame(breast_cancer.data,columns=breast_cancer.feature_names)\n",
        "data['class']=breast_cancer.target"
      ],
      "execution_count": 0,
      "outputs": []
    },
    {
      "cell_type": "code",
      "metadata": {
        "id": "TS3j7jW7cfXy",
        "colab_type": "code",
        "colab": {}
      },
      "source": [
        ""
      ],
      "execution_count": 0,
      "outputs": []
    },
    {
      "cell_type": "code",
      "metadata": {
        "id": "xEIkFLpcRDfu",
        "colab_type": "code",
        "outputId": "cc425ee5-5a70-4a75-bd89-866701fe463c",
        "colab": {
          "base_uri": "https://localhost:8080/",
          "height": 68
        }
      },
      "source": [
        "print(data['class'].value_counts())"
      ],
      "execution_count": 0,
      "outputs": [
        {
          "output_type": "stream",
          "text": [
            "1    357\n",
            "0    212\n",
            "Name: class, dtype: int64\n"
          ],
          "name": "stdout"
        }
      ]
    },
    {
      "cell_type": "code",
      "metadata": {
        "id": "AVtQToK5RICN",
        "colab_type": "code",
        "outputId": "3714770b-e032-45af-88f0-a720c1852645",
        "colab": {
          "base_uri": "https://localhost:8080/",
          "height": 34
        }
      },
      "source": [
        "print(breast_cancer.target_names)"
      ],
      "execution_count": 0,
      "outputs": [
        {
          "output_type": "stream",
          "text": [
            "['malignant' 'benign']\n"
          ],
          "name": "stdout"
        }
      ]
    },
    {
      "cell_type": "code",
      "metadata": {
        "id": "MyTqLz9ERLUQ",
        "colab_type": "code",
        "colab": {}
      },
      "source": [
        "data.groupby('class').mean()"
      ],
      "execution_count": 0,
      "outputs": []
    },
    {
      "cell_type": "code",
      "metadata": {
        "id": "E16xnz2DRMfI",
        "colab_type": "code",
        "colab": {}
      },
      "source": [
        "from sklearn.model_selection import train_test_split\n",
        "\n",
        "X=data.drop('class',axis=1)\n",
        "Y=data['class']"
      ],
      "execution_count": 0,
      "outputs": []
    },
    {
      "cell_type": "code",
      "metadata": {
        "id": "KblUUFt-UZxw",
        "colab_type": "code",
        "colab": {}
      },
      "source": [
        "X_train,X_test,Y_train,Y_test=train_test_split(X,Y,test_size=0.1,stratify=Y)"
      ],
      "execution_count": 0,
      "outputs": []
    },
    {
      "cell_type": "code",
      "metadata": {
        "id": "ZDiakijIqAa7",
        "colab_type": "code",
        "outputId": "cd29db6e-ac7b-4627-945c-65ceed673549",
        "colab": {
          "base_uri": "https://localhost:8080/",
          "height": 1564
        }
      },
      "source": [
        "print(X_train.mean(),X_test.mean(),X.mean())"
      ],
      "execution_count": 0,
      "outputs": [
        {
          "output_type": "stream",
          "text": [
            "mean radius                 14.111225\n",
            "mean texture                19.221836\n",
            "mean perimeter              91.846660\n",
            "mean area                  654.094727\n",
            "mean smoothness              0.096438\n",
            "mean compactness             0.103415\n",
            "mean concavity               0.087865\n",
            "mean concave points          0.048583\n",
            "mean symmetry                0.181312\n",
            "mean fractal dimension       0.062727\n",
            "radius error                 0.405174\n",
            "texture error                1.217620\n",
            "perimeter error              2.859391\n",
            "area error                  40.507410\n",
            "smoothness error             0.007033\n",
            "compactness error            0.024861\n",
            "concavity error              0.031024\n",
            "concave points error         0.011644\n",
            "symmetry error               0.020519\n",
            "fractal dimension error      0.003740\n",
            "worst radius                16.255715\n",
            "worst texture               25.609316\n",
            "worst perimeter            107.082324\n",
            "worst area                 880.356055\n",
            "worst smoothness             0.132566\n",
            "worst compactness            0.250979\n",
            "worst concavity              0.267672\n",
            "worst concave points         0.113836\n",
            "worst symmetry               0.289820\n",
            "worst fractal dimension      0.083684\n",
            "dtype: float64 mean radius                 14.271614\n",
            "mean texture                19.898772\n",
            "mean perimeter              93.068246\n",
            "mean area                  662.024561\n",
            "mean smoothness              0.095660\n",
            "mean compactness             0.112659\n",
            "mean concavity               0.097189\n",
            "mean concave points          0.051938\n",
            "mean symmetry                0.179818\n",
            "mean fractal dimension       0.063435\n",
            "radius error                 0.405156\n",
            "texture error                1.209967\n",
            "perimeter error              2.925960\n",
            "area error                  38.807088\n",
            "smoothness error             0.007117\n",
            "compactness error            0.031020\n",
            "concavity error              0.039702\n",
            "concave points error         0.013167\n",
            "symmetry error               0.020754\n",
            "fractal dimension error      0.004287\n",
            "worst radius                16.390228\n",
            "worst texture               26.287193\n",
            "worst perimeter            108.868070\n",
            "worst area                 882.622807\n",
            "worst smoothness             0.130595\n",
            "worst compactness            0.283779\n",
            "worst concavity              0.312754\n",
            "worst concave points         0.121529\n",
            "worst symmetry               0.292374\n",
            "worst fractal dimension      0.086301\n",
            "dtype: float64 mean radius                 14.127292\n",
            "mean texture                19.289649\n",
            "mean perimeter              91.969033\n",
            "mean area                  654.889104\n",
            "mean smoothness              0.096360\n",
            "mean compactness             0.104341\n",
            "mean concavity               0.088799\n",
            "mean concave points          0.048919\n",
            "mean symmetry                0.181162\n",
            "mean fractal dimension       0.062798\n",
            "radius error                 0.405172\n",
            "texture error                1.216853\n",
            "perimeter error              2.866059\n",
            "area error                  40.337079\n",
            "smoothness error             0.007041\n",
            "compactness error            0.025478\n",
            "concavity error              0.031894\n",
            "concave points error         0.011796\n",
            "symmetry error               0.020542\n",
            "fractal dimension error      0.003795\n",
            "worst radius                16.269190\n",
            "worst texture               25.677223\n",
            "worst perimeter            107.261213\n",
            "worst area                 880.583128\n",
            "worst smoothness             0.132369\n",
            "worst compactness            0.254265\n",
            "worst concavity              0.272188\n",
            "worst concave points         0.114606\n",
            "worst symmetry               0.290076\n",
            "worst fractal dimension      0.083946\n",
            "dtype: float64\n"
          ],
          "name": "stdout"
        }
      ]
    },
    {
      "cell_type": "code",
      "metadata": {
        "id": "HCEpyv9DqZrE",
        "colab_type": "code",
        "colab": {}
      },
      "source": [
        "X_train,X_test,Y_train,Y_test=train_test_split(X,Y,test_size=0.1,stratify=Y,random_state=1)"
      ],
      "execution_count": 0,
      "outputs": []
    },
    {
      "cell_type": "code",
      "metadata": {
        "id": "6Ox1q2xqqmBm",
        "colab_type": "code",
        "outputId": "7b4ff691-26ed-48b6-e6a3-a97bdbd71103",
        "colab": {
          "base_uri": "https://localhost:8080/",
          "height": 1564
        }
      },
      "source": [
        "print(X_train.mean(),X_test.mean(),X.mean())"
      ],
      "execution_count": 0,
      "outputs": [
        {
          "output_type": "stream",
          "text": [
            "mean radius                 14.058656\n",
            "mean texture                19.309668\n",
            "mean perimeter              91.530488\n",
            "mean area                  648.097266\n",
            "mean smoothness              0.096568\n",
            "mean compactness             0.105144\n",
            "mean concavity               0.089342\n",
            "mean concave points          0.048892\n",
            "mean symmetry                0.181961\n",
            "mean fractal dimension       0.062979\n",
            "radius error                 0.403659\n",
            "texture error                1.206856\n",
            "perimeter error              2.861173\n",
            "area error                  39.935506\n",
            "smoothness error             0.007067\n",
            "compactness error            0.025681\n",
            "concavity error              0.032328\n",
            "concave points error         0.011963\n",
            "symmetry error               0.020584\n",
            "fractal dimension error      0.003815\n",
            "worst radius                16.194275\n",
            "worst texture               25.644902\n",
            "worst perimeter            106.757715\n",
            "worst area                 871.647852\n",
            "worst smoothness             0.132592\n",
            "worst compactness            0.257415\n",
            "worst concavity              0.275623\n",
            "worst concave points         0.115454\n",
            "worst symmetry               0.291562\n",
            "worst fractal dimension      0.084402\n",
            "dtype: float64 mean radius                 14.743807\n",
            "mean texture                19.109825\n",
            "mean perimeter              95.908246\n",
            "mean area                  715.896491\n",
            "mean smoothness              0.094496\n",
            "mean compactness             0.097130\n",
            "mean concavity               0.083923\n",
            "mean concave points          0.049159\n",
            "mean symmetry                0.173981\n",
            "mean fractal dimension       0.061169\n",
            "radius error                 0.418767\n",
            "texture error                1.306656\n",
            "perimeter error              2.909946\n",
            "area error                  43.944193\n",
            "smoothness error             0.006809\n",
            "compactness error            0.023659\n",
            "concavity error              0.027989\n",
            "concave points error         0.010293\n",
            "symmetry error               0.020169\n",
            "fractal dimension error      0.003618\n",
            "worst radius                16.942105\n",
            "worst texture               25.967544\n",
            "worst perimeter            111.783860\n",
            "worst area                 960.843860\n",
            "worst smoothness             0.130357\n",
            "worst compactness            0.225973\n",
            "worst concavity              0.241340\n",
            "worst concave points         0.106994\n",
            "worst symmetry               0.276719\n",
            "worst fractal dimension      0.079852\n",
            "dtype: float64 mean radius                 14.127292\n",
            "mean texture                19.289649\n",
            "mean perimeter              91.969033\n",
            "mean area                  654.889104\n",
            "mean smoothness              0.096360\n",
            "mean compactness             0.104341\n",
            "mean concavity               0.088799\n",
            "mean concave points          0.048919\n",
            "mean symmetry                0.181162\n",
            "mean fractal dimension       0.062798\n",
            "radius error                 0.405172\n",
            "texture error                1.216853\n",
            "perimeter error              2.866059\n",
            "area error                  40.337079\n",
            "smoothness error             0.007041\n",
            "compactness error            0.025478\n",
            "concavity error              0.031894\n",
            "concave points error         0.011796\n",
            "symmetry error               0.020542\n",
            "fractal dimension error      0.003795\n",
            "worst radius                16.269190\n",
            "worst texture               25.677223\n",
            "worst perimeter            107.261213\n",
            "worst area                 880.583128\n",
            "worst smoothness             0.132369\n",
            "worst compactness            0.254265\n",
            "worst concavity              0.272188\n",
            "worst concave points         0.114606\n",
            "worst symmetry               0.290076\n",
            "worst fractal dimension      0.083946\n",
            "dtype: float64\n"
          ],
          "name": "stdout"
        }
      ]
    },
    {
      "cell_type": "code",
      "metadata": {
        "id": "9tXISNxGUdG_",
        "colab_type": "code",
        "colab": {}
      },
      "source": [
        "import matplotlib.pyplot as plt"
      ],
      "execution_count": 0,
      "outputs": []
    },
    {
      "cell_type": "code",
      "metadata": {
        "id": "k46CSOJzUf92",
        "colab_type": "code",
        "outputId": "eb2b596f-1ce3-4c14-d1f5-2fd017b273a7",
        "colab": {
          "base_uri": "https://localhost:8080/",
          "height": 347
        }
      },
      "source": [
        "plt.plot(X_train,'*')\n",
        "plt.show()"
      ],
      "execution_count": 0,
      "outputs": [
        {
          "output_type": "display_data",
          "data": {
            "image/png": "[encoded data removed]",
            "text/plain": [
              "<Figure size 576x396 with 1 Axes>"
            ]
          },
          "metadata": {
            "tags": []
          }
        }
      ]
    },
    {
      "cell_type": "code",
      "metadata": {
        "id": "VchU6GHcUjRR",
        "colab_type": "code",
        "outputId": "951d3f04-21a3-49db-e93a-ee94af6c3614",
        "colab": {
          "base_uri": "https://localhost:8080/",
          "height": 347
        }
      },
      "source": [
        "plt.plot(X_train.T,'*')\n",
        "plt.show()"
      ],
      "execution_count": 0,
      "outputs": [
        {
          "output_type": "display_data",
          "data": {
            "image/png": "[encoded data removed]",
            "text/plain": [
              "<Figure size 576x396 with 1 Axes>"
            ]
          },
          "metadata": {
            "tags": []
          }
        }
      ]
    },
    {
      "cell_type": "code",
      "metadata": {
        "id": "WRcdTgu2UnCV",
        "colab_type": "code",
        "outputId": "ea1b88c9-4fdb-4185-b2f0-4e7b5cbc7529",
        "colab": {
          "base_uri": "https://localhost:8080/",
          "height": 440
        }
      },
      "source": [
        "plt.plot(X_train.T,'*')\n",
        "plt.xticks(rotation='vertical')\n",
        "plt.show()"
      ],
      "execution_count": 0,
      "outputs": [
        {
          "output_type": "display_data",
          "data": {
            "image/png": "[encoded data removed]",
            "text/plain": [
              "<Figure size 576x396 with 1 Axes>"
            ]
          },
          "metadata": {
            "tags": []
          }
        }
      ]
    },
    {
      "cell_type": "code",
      "metadata": {
        "id": "YPbQxOSSU9UJ",
        "colab_type": "code",
        "colab": {}
      },
      "source": [
        "x_binaryized_3_train=X_train['mean area'].map(lambda x:0 if x<1000 else 1)"
      ],
      "execution_count": 0,
      "outputs": []
    },
    {
      "cell_type": "code",
      "metadata": {
        "id": "jNArZBHEU9K1",
        "colab_type": "code",
        "outputId": "379b476a-5b49-4f46-cb3b-0ed5c03eece8",
        "colab": {
          "base_uri": "https://localhost:8080/",
          "height": 364
        }
      },
      "source": [
        "plt.plot(x_binaryized_3_train,'*')"
      ],
      "execution_count": 0,
      "outputs": [
        {
          "output_type": "execute_result",
          "data": {
            "text/plain": [
              "[<matplotlib.lines.Line2D at 0x7faa4cd0a6d8>]"
            ]
          },
          "metadata": {
            "tags": []
          },
          "execution_count": 15
        },
        {
          "output_type": "display_data",
          "data": {
            "image/png": "[encoded data removed]",
            "text/plain": [
              "<Figure size 576x396 with 1 Axes>"
            ]
          },
          "metadata": {
            "tags": []
          }
        }
      ]
    },
    {
      "cell_type": "code",
      "metadata": {
        "id": "PPOF05qFtf80",
        "colab_type": "code",
        "outputId": "bdf0365f-2822-4626-e447-97c148b15bfd",
        "colab": {
          "base_uri": "https://localhost:8080/",
          "height": 440
        }
      },
      "source": [
        "plt.plot(X_test.T,'*')\n",
        "plt.xticks(rotation='vertical')\n",
        "plt.show()"
      ],
      "execution_count": 0,
      "outputs": [
        {
          "output_type": "display_data",
          "data": {
            "image/png": "[encoded data removed]",
            "text/plain": [
              "<Figure size 576x396 with 1 Axes>"
            ]
          },
          "metadata": {
            "tags": []
          }
        }
      ]
    },
    {
      "cell_type": "code",
      "metadata": {
        "id": "djbCw1gUtpw1",
        "colab_type": "code",
        "colab": {}
      },
      "source": [
        "X_binarised_train=X_train.apply(pd.cut,bins=2,labels=[0,1])"
      ],
      "execution_count": 0,
      "outputs": []
    },
    {
      "cell_type": "code",
      "metadata": {
        "id": "QeBOQSF4uO0w",
        "colab_type": "code",
        "outputId": "d05290a9-8238-4743-e7c4-1052db248311",
        "colab": {
          "base_uri": "https://localhost:8080/",
          "height": 440
        }
      },
      "source": [
        "plt.plot(X_binarised_train.T,'*')\n",
        "plt.xticks(rotation='vertical')\n",
        "plt.show()"
      ],
      "execution_count": 0,
      "outputs": [
        {
          "output_type": "display_data",
          "data": {
            "image/png": "[encoded data removed]",
            "text/plain": [
              "<Figure size 576x396 with 1 Axes>"
            ]
          },
          "metadata": {
            "tags": []
          }
        }
      ]
    },
    {
      "cell_type": "code",
      "metadata": {
        "id": "3nRfZiwsN-Y1",
        "colab_type": "code",
        "colab": {}
      },
      "source": [
        "X_binarised_test=X_test.apply(pd.cut,bins=2,labels=[0,1])"
      ],
      "execution_count": 0,
      "outputs": []
    },
    {
      "cell_type": "code",
      "metadata": {
        "id": "Fft4Pp73OLbb",
        "colab_type": "code",
        "colab": {}
      },
      "source": [
        "X_binarised_test=X_binarised_test.values"
      ],
      "execution_count": 0,
      "outputs": []
    },
    {
      "cell_type": "code",
      "metadata": {
        "id": "h0wqjR58Ng_k",
        "colab_type": "code",
        "colab": {}
      },
      "source": [
        "X_binarised_train=X_binarised_train.values"
      ],
      "execution_count": 0,
      "outputs": []
    },
    {
      "cell_type": "code",
      "metadata": {
        "id": "7ut-27mQN1J_",
        "colab_type": "code",
        "outputId": "c4d0931a-c082-4a6b-eeeb-f427c088cd9c",
        "colab": {
          "base_uri": "https://localhost:8080/",
          "height": 134
        }
      },
      "source": [
        "print(X_binarised_train)"
      ],
      "execution_count": 0,
      "outputs": [
        {
          "output_type": "stream",
          "text": [
            "[[0 0 0 ... 1 0 0]\n",
            " [0 0 0 ... 0 0 0]\n",
            " [0 0 0 ... 1 0 1]\n",
            " ...\n",
            " [0 0 0 ... 0 0 0]\n",
            " [0 0 0 ... 0 0 0]\n",
            " [1 0 1 ... 1 0 0]]\n"
          ],
          "name": "stdout"
        }
      ]
    },
    {
      "cell_type": "code",
      "metadata": {
        "id": "R8lLZ9i9OneN",
        "colab_type": "code",
        "outputId": "8809108a-5a2c-465c-c0ed-c6dfe80bb8a8",
        "colab": {
          "base_uri": "https://localhost:8080/",
          "height": 134
        }
      },
      "source": [
        "print(X_binarised_test)"
      ],
      "execution_count": 0,
      "outputs": [
        {
          "output_type": "stream",
          "text": [
            "[[0 0 0 ... 0 0 1]\n",
            " [1 1 1 ... 1 1 1]\n",
            " [0 0 0 ... 0 0 0]\n",
            " ...\n",
            " [0 0 0 ... 0 1 0]\n",
            " [1 1 1 ... 1 1 1]\n",
            " [0 0 0 ... 0 0 0]]\n"
          ],
          "name": "stdout"
        }
      ]
    },
    {
      "cell_type": "code",
      "metadata": {
        "id": "58q9Qh7dvVk7",
        "colab_type": "code",
        "outputId": "1255c0ac-f410-4868-dc34-42751434df2c",
        "colab": {
          "base_uri": "https://localhost:8080/",
          "height": 67
        }
      },
      "source": [
        "from random import randint\n",
        "b=3\n",
        "\n",
        "i=randint(0,X_binarised_train.shape[0])\n",
        "print('for Row',i)\n",
        "\n",
        "if (np.sum(X_binarised_train[100,:])>=b):\n",
        "    print('Mp Neuron is malignant')\n",
        "else:\n",
        "    print(\"Empty neuron inference is Benign\")\n",
        "    \n",
        "    \n",
        "if (Y_train[i] == 1):\n",
        "    print('Mp Neuron is malignant')\n",
        "else:\n",
        "    print(\"Empty neuron inference is Benign\")\n",
        "\n",
        "    "
      ],
      "execution_count": 0,
      "outputs": [
        {
          "output_type": "stream",
          "text": [
            "for Row 99\n",
            "Empty neuron inference is Benign\n",
            "Empty neuron inference is Benign\n"
          ],
          "name": "stdout"
        }
      ]
    },
    {
      "cell_type": "code",
      "metadata": {
        "id": "ZlXgrDwtPzNZ",
        "colab_type": "code",
        "outputId": "79d44dd2-0627-4231-998f-87fbbefbbaa7",
        "colab": {
          "base_uri": "https://localhost:8080/",
          "height": 134
        }
      },
      "source": [
        "print(X_binarised_train)"
      ],
      "execution_count": 0,
      "outputs": [
        {
          "output_type": "stream",
          "text": [
            "[[0 0 0 ... 1 0 0]\n",
            " [0 0 0 ... 0 0 0]\n",
            " [0 0 0 ... 1 0 1]\n",
            " ...\n",
            " [0 0 0 ... 0 0 0]\n",
            " [0 0 0 ... 0 0 0]\n",
            " [1 0 1 ... 1 0 0]]\n"
          ],
          "name": "stdout"
        }
      ]
    },
    {
      "cell_type": "code",
      "metadata": {
        "id": "T5gcVEayS7VG",
        "colab_type": "code",
        "outputId": "f0a8e328-ac9c-48de-b1bf-5b2986cc6cd5",
        "colab": {
          "base_uri": "https://localhost:8080/",
          "height": 34
        }
      },
      "source": [
        "np.shape(X_binarised_train)"
      ],
      "execution_count": 0,
      "outputs": [
        {
          "output_type": "execute_result",
          "data": {
            "text/plain": [
              "(512, 30)"
            ]
          },
          "metadata": {
            "tags": []
          },
          "execution_count": 70
        }
      ]
    },
    {
      "cell_type": "code",
      "metadata": {
        "id": "N-AvgDZPTpvo",
        "colab_type": "code",
        "outputId": "76ca8ae8-48d9-4764-a8af-27c1f144beea",
        "colab": {
          "base_uri": "https://localhost:8080/",
          "height": 34
        }
      },
      "source": [
        "b=3\n",
        "Y_pred_train=[]\n",
        "accurate_rows=0\n",
        "for x,y in zip(X_binarised_train,Y_train):\n",
        "  y_pred=(np.sum(x) >= b)\n",
        "  Y_pred_train.append(y_pred)\n",
        "  accurate_rows +=(y==y_pred)\n",
        "  \n",
        "print(accurate_rows,accurate_rows/X_binarised_train.shape[0])\n"
      ],
      "execution_count": 0,
      "outputs": [
        {
          "output_type": "stream",
          "text": [
            "77 0.150390625\n"
          ],
          "name": "stdout"
        }
      ]
    },
    {
      "cell_type": "code",
      "metadata": {
        "id": "ZTa5_fFXXVtO",
        "colab_type": "code",
        "outputId": "a2b4a2ec-e0af-46f0-cf51-728690fcddf4",
        "colab": {
          "base_uri": "https://localhost:8080/",
          "height": 134
        }
      },
      "source": [
        "print(X_binarised_train)"
      ],
      "execution_count": 0,
      "outputs": [
        {
          "output_type": "stream",
          "text": [
            "[[0 0 0 ... 1 0 0]\n",
            " [0 0 0 ... 0 0 0]\n",
            " [0 0 0 ... 1 0 1]\n",
            " ...\n",
            " [0 0 0 ... 0 0 0]\n",
            " [0 0 0 ... 0 0 0]\n",
            " [1 0 1 ... 1 0 0]]\n"
          ],
          "name": "stdout"
        }
      ]
    },
    {
      "cell_type": "code",
      "metadata": {
        "id": "kILoij2gU9LJ",
        "colab_type": "code",
        "outputId": "b6bfaf13-d88a-481b-d4cb-5f54333d8a2c",
        "colab": {
          "base_uri": "https://localhost:8080/",
          "height": 1058
        }
      },
      "source": [
        "print(Y_train)"
      ],
      "execution_count": 0,
      "outputs": [
        {
          "output_type": "stream",
          "text": [
            "430    0\n",
            "48     1\n",
            "105    0\n",
            "467    1\n",
            "547    1\n",
            "365    0\n",
            "295    1\n",
            "567    0\n",
            "297    0\n",
            "172    0\n",
            "506    1\n",
            "488    1\n",
            "115    1\n",
            "466    1\n",
            "218    0\n",
            "74     1\n",
            "461    0\n",
            "484    1\n",
            "79     1\n",
            "226    1\n",
            "37     1\n",
            "44     0\n",
            "324    1\n",
            "13     0\n",
            "277    0\n",
            "134    0\n",
            "83     0\n",
            "153    1\n",
            "327    1\n",
            "68     1\n",
            "      ..\n",
            "486    1\n",
            "207    0\n",
            "357    1\n",
            "409    1\n",
            "211    1\n",
            "289    1\n",
            "11     0\n",
            "53     0\n",
            "86     0\n",
            "266    1\n",
            "398    1\n",
            "77     0\n",
            "125    1\n",
            "537    1\n",
            "532    1\n",
            "472    1\n",
            "259    0\n",
            "227    1\n",
            "476    1\n",
            "453    1\n",
            "33     0\n",
            "65     0\n",
            "188    1\n",
            "479    0\n",
            "509    0\n",
            "201    0\n",
            "183    1\n",
            "285    1\n",
            "49     1\n",
            "161    0\n",
            "Name: class, Length: 512, dtype: int64\n"
          ],
          "name": "stdout"
        }
      ]
    },
    {
      "cell_type": "code",
      "metadata": {
        "id": "F6XIZyMwXkQT",
        "colab_type": "code",
        "colab": {
          "base_uri": "https://localhost:8080/",
          "height": 52
        },
        "outputId": "bb8efd53-d748-4630-8fe1-b89405254329"
      },
      "source": [
        "a=[100,200,300,400,500,600,700,800]\n",
        "n=[4,5,6]\n",
        "a.extend(n)\n",
        "print(a)\n",
        "c=[66,70.80]\n",
        "a.append(c)\n",
        "print(a)"
      ],
      "execution_count": 31,
      "outputs": [
        {
          "output_type": "stream",
          "text": [
            "[100, 200, 300, 400, 500, 600, 700, 800, 4, 5, 6]\n",
            "[100, 200, 300, 400, 500, 600, 700, 800, 4, 5, 6, [66, 70.8]]\n"
          ],
          "name": "stdout"
        }
      ]
    },
    {
      "cell_type": "markdown",
      "metadata": {
        "id": "JynAS63etnkG",
        "colab_type": "text"
      },
      "source": [
        "# New Section"
      ]
    }
  ]
}